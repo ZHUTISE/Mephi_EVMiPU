{
 "cells": [
  {
   "cell_type": "code",
   "execution_count": 1,
   "id": "8d9dc1ff",
   "metadata": {},
   "outputs": [],
   "source": [
    "def singleMult (multiplicand, multiplier):\n",
    "    product = ''\n",
    "    for x in multiplicand:\n",
    "        product += str(int(x)*int(multiplier))\n",
    "    return product"
   ]
  },
  {
   "cell_type": "code",
   "execution_count": 2,
   "id": "56267355",
   "metadata": {},
   "outputs": [],
   "source": [
    "def shiftRight (binaryNum):\n",
    "    return '0' + binaryNum"
   ]
  },
  {
   "cell_type": "code",
   "execution_count": 3,
   "id": "e9ac9ccc",
   "metadata": {},
   "outputs": [],
   "source": [
    "def addition(a, b):\n",
    "    print(\"X2-:\",'0.'+b)\n",
    "    max_len = max(len(a), len(b)) \n",
    "    a = a.ljust(max_len, '0') \n",
    "    b = b.ljust(max_len, '0') \n",
    "    result = '' \n",
    "    carry = 0\n",
    "    for i in range(max_len - 1, -1, -1): \n",
    "        temp = carry \n",
    "        temp += 1 if a[i] == '1' else 0\n",
    "        temp += 1 if b[i] == '1' else 0\n",
    "        result = ('1' if temp % 2 == 1 else '0') + result\n",
    "        carry = 0 if temp < 2 else 1\n",
    "    if carry != 0: \n",
    "        result = '1' + result \n",
    "    return result"
   ]
  },
  {
   "cell_type": "code",
   "execution_count": 4,
   "id": "a5341fee",
   "metadata": {},
   "outputs": [],
   "source": [
    "def signFinder(a,b):\n",
    "    if ((a=='1')&(b=='1')):\n",
    "        return '0'\n",
    "    elif((a=='0')&(b=='0')):\n",
    "        return '0'\n",
    "    else:\n",
    "        return '1'"
   ]
  },
  {
   "cell_type": "code",
   "execution_count": 5,
   "id": "e41a8b69",
   "metadata": {},
   "outputs": [
    {
     "name": "stdout",
     "output_type": "stream",
     "text": [
      "X: 1.1010\n",
      "Y: 0.1011\n",
      "X2-: 0.01010\n",
      "X2-: 0.000000\n",
      "X2-: 0.0001010\n",
      "X2-: 0.00001010\n",
      "0.01101110\n",
      "Result: 1.01101110\n"
     ]
    }
   ],
   "source": [
    "factorX = str(input(\"X: \"))\n",
    "factorY = str(input(\"Y: \"))\n",
    "sign = signFinder(factorX[0], factorY[0])\n",
    "mulSum = ''\n",
    "xrsh = shiftRight(factorX[2:])\n",
    "for x in factorY[2::]:\n",
    "    mulSum = addition(mulSum, singleMult(xrsh,x))\n",
    "    xrsh = shiftRight(xrsh)\n",
    "print('0.' + mulSum)\n",
    "print(\"Result:\", sign + '.' + mulSum)"
   ]
  }
 ],
 "metadata": {
  "kernelspec": {
   "display_name": "Python 3 (ipykernel)",
   "language": "python",
   "name": "python3"
  },
  "language_info": {
   "codemirror_mode": {
    "name": "ipython",
    "version": 3
   },
   "file_extension": ".py",
   "mimetype": "text/x-python",
   "name": "python",
   "nbconvert_exporter": "python",
   "pygments_lexer": "ipython3",
   "version": "3.11.1"
  }
 },
 "nbformat": 4,
 "nbformat_minor": 5
}
